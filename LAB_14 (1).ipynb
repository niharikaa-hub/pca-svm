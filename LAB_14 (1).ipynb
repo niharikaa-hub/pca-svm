{
  "nbformat": 4,
  "nbformat_minor": 0,
  "metadata": {
    "colab": {
      "provenance": []
    },
    "kernelspec": {
      "name": "python3",
      "display_name": "Python 3"
    },
    "language_info": {
      "name": "python"
    }
  },
  "cells": [
    {
      "cell_type": "markdown",
      "source": [
        "# Write a program to Implement Support Vector Machines and Principle Component Analysis"
      ],
      "metadata": {
        "id": "mKjGU9zNlhNR"
      }
    },
    {
      "cell_type": "markdown",
      "source": [],
      "metadata": {
        "id": "KtD3NSR9lh4w"
      }
    },
    {
      "cell_type": "code",
      "source": [
        "import pandas as pd\n",
        "from sklearn.model_selection import train_test_split\n",
        "from sklearn.svm import SVC\n",
        "from sklearn.preprocessing import StandardScaler\n",
        "from sklearn.decomposition import PCA\n",
        "from sklearn.metrics import accuracy_score\n",
        "\n",
        "# Load the dataset (replace 'your_dataset.csv' with your actual dataset)\n",
        "data = pd.read_csv('/content/studentPerformance_PCA_14.csv')\n",
        "\n",
        "print('input data head',data.head())\n",
        "\n",
        "# Separate features (X) and target (y)\n",
        "X = data.drop('PassedExam', axis=1)  # Replace 'target_variable' with your target column name\n",
        "y = data['PassedExam']\n",
        "\n",
        "# Split data into training and testing sets\n",
        "X_train, X_test, y_train, y_test = train_test_split(X, y, test_size=0.2, random_state=42)\n",
        "\n",
        "# Standardize features\n",
        "scaler = StandardScaler()\n",
        "X_train = scaler.fit_transform(X_train)\n",
        "X_test = scaler.transform(X_test)\n",
        "\n",
        "\n",
        "print()\n",
        "\n",
        "# Apply PCA for dimensionality reduction\n",
        "pca = PCA(n_components=0.95)  # Keep components explaining 95% of variance\n",
        "X_train_pca = pca.fit_transform(X_train)\n",
        "X_test_pca = pca.transform(X_test)\n",
        "\n",
        "# Train SVM classifier\n",
        "svm_classifier = SVC(kernel='linear')  # You can experiment with different kernels\n",
        "svm_classifier.fit(X_train_pca, y_train)\n",
        "\n",
        "# Make predictions\n",
        "y_pred = svm_classifier.predict(X_test_pca)\n",
        "\n",
        "# Evaluate accuracy\n",
        "accuracy = accuracy_score(y_test, y_pred)\n",
        "print(f\"Accuracy: {accuracy}\")"
      ],
      "metadata": {
        "colab": {
          "base_uri": "https://localhost:8080/"
        },
        "id": "EKn9_Hi1uUVi",
        "outputId": "b4bea396-6c8e-4995-a862-57b2c6dcc47d"
      },
      "execution_count": 2,
      "outputs": [
        {
          "output_type": "stream",
          "name": "stdout",
          "text": [
            "input data head    MathScore  ReadingScore  WritingScore  StudyHours  Attendance  PassedExam\n",
            "0         85            90            88          10          95           1\n",
            "1         78            80            75           8          85           1\n",
            "2         50            55            45           3          60           0\n",
            "3         92            95            98          12          98           1\n",
            "4         60            65            62           6          70           0\n",
            "\n",
            "Accuracy: 0.8125\n"
          ]
        }
      ]
    }
  ]
}